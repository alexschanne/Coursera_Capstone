{
 "cells": [
  {
   "cell_type": "markdown",
   "metadata": {},
   "source": [
    "<H1> Coursera Capstone Project"
   ]
  },
  {
   "cell_type": "markdown",
   "metadata": {},
   "source": [
    "This notebook will apply the skills and tools that I have learned during the IBM Coursera Data Science Certification. It will demonstrate my understanding of these tools and ability to use them to creatively solve complex problems."
   ]
  },
  {
   "cell_type": "markdown",
   "metadata": {},
   "source": [
    "To clarify the requirements of the project, I will restate the rubric here:"
   ]
  },
  {
   "cell_type": "markdown",
   "metadata": {},
   "source": [
    "For Week 1:\n",
    "<ul>\n",
    "    <li>A description of the problem and a discussion of the background. (15 marks)</li>\n",
    "    <li>A description of the data and how it will be used to solve the problem. (15 marks)</li>\n",
    "    </ul>\n",
    "\n",
    "For Week 2:\n",
    "<ul>\n",
    "    <li>A link to your Notebook on your Github repository, showing your code. (15 marks)</li>\n",
    "    <li>A full report consisting of all of the following components (15 marks):\n",
    "        <ul>\n",
    "            <li>Introduction where you discuss the business problem and who would be interested in this project.</li>\n",
    "            <li>Data where you describe the data that will be used to solve the problem and the source of the data.</li>\n",
    "            <li>Methodology section which represents the main component of the report where you discuss and describe any exploratory data analysis that you did, any inferential statistical testing that you performed, if any, and what machine learnings were used and why.</li>\n",
    "            <li>Results section where you discuss the results.</li>\n",
    "            <li>Discussion section where you discuss any observations you noted and any recommendations you can make based on the results. </li>\n",
    "            <li>Conclusion section where you conclude the report.</li>\n",
    "        </ul>\n",
    "    <li>Your choice of a presentation or blogpost. (10 marks)</li>\n",
    "    </ul>"
   ]
  },
  {
   "cell_type": "markdown",
   "metadata": {},
   "source": [
    "<H2>Introduction"
   ]
  },
  {
   "cell_type": "markdown",
   "metadata": {},
   "source": [
    "<H4>The Problem</H4> \n",
    "This notebook will investigate the viability of opening a 24/7 diner in Philadelphia, Pennsylvania.\n",
    "<p></p>\n",
    "As a Philadelphia native, I love the city. But I am always struck by how many times people remark to me how early the city shuts down compared to its neighbor, New York. There are very few late night eateries, particularly near the University City district, where many students live and have expressed interest in late night options for after party hangouts or study fuel."
   ]
  },
  {
   "cell_type": "markdown",
   "metadata": {},
   "source": [
    "<H2>Methodology"
   ]
  },
  {
   "cell_type": "markdown",
   "metadata": {},
   "source": [
    "<H4>DATA: This Notebook as a Solution</H4>\n",
    "In this notebook, I will use data scraped from Wikipedia to identify neighborhoods in Philadelphia, PA. After which, I will create a dataframe and map the coordinates of the neighborhood. I will use the latitude and longitude to get venue data from Four Square to confirm or reject my hypothesis that University City is an viable neighborhood to open a 24/7 diner."
   ]
  },
  {
   "cell_type": "code",
   "execution_count": null,
   "metadata": {},
   "outputs": [],
   "source": []
  }
 ],
 "metadata": {
  "kernelspec": {
   "display_name": "Python 3",
   "language": "python",
   "name": "python3"
  },
  "language_info": {
   "codemirror_mode": {
    "name": "ipython",
    "version": 3
   },
   "file_extension": ".py",
   "mimetype": "text/x-python",
   "name": "python",
   "nbconvert_exporter": "python",
   "pygments_lexer": "ipython3",
   "version": "3.7.3"
  }
 },
 "nbformat": 4,
 "nbformat_minor": 2
}
